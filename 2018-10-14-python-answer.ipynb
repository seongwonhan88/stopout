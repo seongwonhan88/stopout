{
 "cells": [
  {
   "cell_type": "code",
   "execution_count": 2,
   "metadata": {
    "scrolled": true
   },
   "outputs": [
    {
     "name": "stdout",
     "output_type": "stream",
     "text": [
      "-  민아\n",
      "-  혜리\n",
      "-  유라\n",
      "-  소진\n"
     ]
    }
   ],
   "source": [
    "# 1\n",
    "girlsday_members = ['민아', '혜리', '유라', '소진']\n",
    "for girlsday_info in girlsday_members:\n",
    "    print('- ',girlsday_info)"
   ]
  },
  {
   "cell_type": "code",
   "execution_count": 20,
   "metadata": {},
   "outputs": [
    {
     "name": "stdout",
     "output_type": "stream",
     "text": [
      "0 RED : Apple\n",
      "1 YELLOW : Banana\n",
      "2 GREEN : Melon\n"
     ]
    }
   ],
   "source": [
    "# 2 - [] 돌아와서 다시 찾기\n",
    "fruit_dict = {\n",
    "    'red' : 'apple',\n",
    "    'yellow' : 'banana',\n",
    "    'green' : 'melon',\n",
    "}\n",
    "\n",
    "for index, fruit_info in enumerate(fruit_dict.items()):\n",
    "    print(index , fruit_info[0].upper(),':', fruit_info[1].capitalize())"
   ]
  },
  {
   "cell_type": "code",
   "execution_count": 25,
   "metadata": {},
   "outputs": [
    {
     "name": "stdout",
     "output_type": "stream",
     "text": [
      "['hello world', 'hello fast campus', 'hello world again!'] 4596793160\n",
      "['hello world', 'hello fast campus', 'hello world again!'] 4596793160\n",
      "['hello world', 'hello fast campus'] 4596793224\n"
     ]
    }
   ],
   "source": [
    "# 3 \n",
    "original_list = ['hello world', 'hello fast campus']\n",
    "list_refer = original_list \n",
    "list_copy = original_list.copy()\n",
    "\n",
    "original_list.append('hello world again!')\n",
    "print(original_list, id(original_list))\n",
    "print(list_refer, id(list_refer)) # 원본객체를 바라봄\n",
    "print(list_copy, id(list_copy)) # 복사하여 별도 메모리에 저장"
   ]
  },
  {
   "cell_type": "code",
   "execution_count": 34,
   "metadata": {},
   "outputs": [
    {
     "name": "stdout",
     "output_type": "stream",
     "text": [
      "[3, 7, 11, 15, 19, 23, 27]\n"
     ]
    }
   ],
   "source": [
    "# 4 \n",
    "num_range = list(range(3,30,4))\n",
    "print(num_range)"
   ]
  },
  {
   "cell_type": "code",
   "execution_count": 49,
   "metadata": {},
   "outputs": [],
   "source": [
    "# 5 \n",
    "obj = {\n",
    "    'red' : 'apple',\n",
    "    'yellow' : 'banana',\n",
    "    'green' : 'melon',\n",
    "#     'key':'lock',\n",
    "}\n",
    "\n",
    "# obj['key']\n",
    "# 'key'라는 키를 가진 값을 반환, 없을경우 'KeyErorr' 발생\n",
    "\n",
    "obj.get('key')\n",
    "# 'key'를 요청할 경우 default값을 주지 않았기 때문에 None을 반환, \n",
    "# default값을 제공할 경우 default 값을 저장 및 반환\n"
   ]
  },
  {
   "cell_type": "code",
   "execution_count": 53,
   "metadata": {},
   "outputs": [
    {
     "name": "stdout",
     "output_type": "stream",
     "text": [
      "피카츄 전기타입\n",
      "파이리 불 타입\n",
      "꼬부기 물 타입\n",
      "이상해씨 풀 타입\n"
     ]
    }
   ],
   "source": [
    "# 6 \n",
    "pokemon_info = [\n",
    "    ('피카츄', '전기타입'),\n",
    "    ('파이리', '불 타입'),\n",
    "    ('꼬부기', '물 타입'),\n",
    "    ('이상해씨', '풀 타입'),\n",
    "]\n",
    "\n",
    "for pokemons in pokemon_info:\n",
    "    pokemon, poke_type = pokemons\n",
    "    print(pokemon, poke_type)\n",
    "\n",
    "# 패킹된 튜플 변수에서 여러개의 값을 하나씩 꺼내오는 작업"
   ]
  },
  {
   "cell_type": "code",
   "execution_count": 54,
   "metadata": {},
   "outputs": [],
   "source": [
    "# 7 \n",
    "# 위치인자는 positional 즉 함수가 인자를 받을 때 순서대로 받으며 (입력을 할 때 순서대로 입력 할 것이라 예상하고 받음)\n",
    "# 키워드 인자는 특정 키에 상응하는 인자로 순서에 상관없이 (키=인자) 로 받으면 된다. "
   ]
  },
  {
   "cell_type": "code",
   "execution_count": 55,
   "metadata": {},
   "outputs": [],
   "source": [
    "# 8 \n",
    "# 인스턴스는 클래스의 객체(실체). 클래스가 개념이면 인스턴스는 개념이 현실화 된 모습.\n",
    "# 클래스 생성자 함수 이름 __init__ \n",
    "# 인스턴스 생성할 때 __new__ > __init__ 호출 \n",
    "# self 매개변수는 함수 자신을 참조하는 것을 의미"
   ]
  },
  {
   "cell_type": "code",
   "execution_count": 56,
   "metadata": {},
   "outputs": [],
   "source": [
    "# 9 \n",
    "\n",
    "# @property 데커레이터를 함수위에 지정, 읽기전용으로 처리 \n",
    "# @(name).setter 데커레이터를 지정. 이때 (name)은 @property에 쓰인 이름과 같아야 한다. \n"
   ]
  },
  {
   "cell_type": "code",
   "execution_count": 57,
   "metadata": {},
   "outputs": [],
   "source": [
    "# 10 \n",
    "class User:\n",
    "    def __init__(self, name):\n",
    "        self.name = name \n",
    "        \n",
    "class Student(User):\n",
    "    def __init__(self, name, age):\n",
    "        super().__init__(name)\n",
    "        self.age = age\n",
    "        "
   ]
  },
  {
   "cell_type": "code",
   "execution_count": 67,
   "metadata": {
    "scrolled": true
   },
   "outputs": [
    {
     "name": "stdout",
     "output_type": "stream",
     "text": [
      "승리를 쟁취하라\n",
      "10월 14일(일) 금융기관별 결제 서비스 점검 안내\n",
      "대리 게임 등 적발 현황 281차 안내\n",
      "부정행위 프로그램 제재 현황 안내\n",
      "인생챔프 : 큐베 - 나르편\n",
      "임무 기능 장애 현상 안내 (정상화)\n",
      "LCK팀의 Worlds가 오늘 시작됩니다!\n",
      "임무 기능 장애 현상 안내 (정상화)\n",
      "2018 월드 챔피언십 그룹 스테이지 현장 라이엇 스토어 운영 안내\n",
      "10월 10일(수) 서버 점검 및 업데이트 안내 (완료)\n"
     ]
    }
   ],
   "source": [
    "# 11 \n",
    "import requests \n",
    "from bs4 import BeautifulSoup\n",
    "url = requests.get('http://www.leagueoflegends.co.kr/?m=news&cate=notice')\n",
    "html = url.text\n",
    "soup = BeautifulSoup(html, 'lxml')\n",
    "notice_board = soup.select('tbody tr td a')\n",
    "for notice in notice_board:\n",
    "    print(notice.text)"
   ]
  },
  {
   "cell_type": "code",
   "execution_count": 241,
   "metadata": {},
   "outputs": [
    {
     "name": "stdout",
     "output_type": "stream",
     "text": [
      "['4,917']\n"
     ]
    }
   ],
   "source": [
    "# import re\n",
    "# list1 = soup.select('tbody tr')\n",
    "# # post_date = re.findall('\\d+-\\d+-\\d+', list1[0].text)\n",
    "# view = re.findall('\\d+,\\d+', list1[0].text)\n",
    "\n",
    "# print(view)\n",
    "\n",
    "# # list1[0].text\n",
    "# # for list in list1:\n",
    "# #     print(list.text)"
   ]
  },
  {
   "cell_type": "code",
   "execution_count": 235,
   "metadata": {},
   "outputs": [],
   "source": [
    "# 12 \n",
    "import re\n",
    "\n",
    "class Notice():\n",
    "    def __init__(self,title,date,view):\n",
    "        self.title = title\n",
    "        self.date = date\n",
    "        self.view = view\n",
    "        \n",
    "notice_board = soup.select('tbody tr')\n",
    "notice_titles = soup.select('tbody tr td a')\n",
    "notice_views = soup.select('tbody tr td')\n",
    "notice_list = list()\n",
    "\n",
    "for notice, title in zip(notice_board, notice_titles):\n",
    "    post_date = re.findall('\\d+-\\d+-\\d+', notice.text)\n",
    "    view = re.findall('\\d+,\\d+', notice.text)\n",
    "#     print(post_date, title.text, view)\n",
    "    notice_list.append(Notice(title.text, post_date, view))"
   ]
  },
  {
   "cell_type": "code",
   "execution_count": 236,
   "metadata": {},
   "outputs": [
    {
     "name": "stdout",
     "output_type": "stream",
     "text": [
      "None\n",
      "None\n",
      "None\n",
      "\n",
      "None\n",
      "None\n",
      "None\n",
      "\n",
      "None\n",
      "None\n",
      "None\n",
      "\n",
      "None\n",
      "None\n",
      "None\n",
      "\n",
      "승리를 쟁취하라\n",
      "['2018-10-14']\n",
      "['4,917']\n",
      "\n",
      "10월 14일(일) 금융기관별 결제 서비스 점검 안내\n",
      "['2018-10-12']\n",
      "['1,271']\n",
      "\n",
      "대리 게임 등 적발 현황 281차 안내\n",
      "['2018-10-12']\n",
      "['2,167']\n",
      "\n",
      "부정행위 프로그램 제재 현황 안내\n",
      "['2018-10-12']\n",
      "[]\n",
      "\n",
      "인생챔프 : 큐베 - 나르편\n",
      "['2018-10-11']\n",
      "['1,524']\n",
      "\n",
      "임무 기능 장애 현상 안내 (정상화)\n",
      "['2018-10-10']\n",
      "['2,478']\n",
      "\n",
      "LCK팀의 Worlds가 오늘 시작됩니다!\n",
      "['2018-10-10']\n",
      "['2,805']\n",
      "\n",
      "임무 기능 장애 현상 안내 (정상화)\n",
      "['2018-10-09']\n",
      "['9,653']\n",
      "\n",
      "2018 월드 챔피언십 그룹 스테이지 현장 라이엇 스토어 운영 안내\n",
      "['2018-10-09']\n",
      "['3,446']\n",
      "\n",
      "10월 10일(수) 서버 점검 및 업데이트 안내 (완료)\n",
      "['2018-10-09']\n",
      "['12,264']\n",
      "\n"
     ]
    }
   ],
   "source": [
    "for notice in notice_list:\n",
    "    print(notice.title)\n",
    "    print(notice.date)\n",
    "    print(notice.view)\n",
    "    print()"
   ]
  },
  {
   "cell_type": "code",
   "execution_count": 242,
   "metadata": {},
   "outputs": [],
   "source": [
    "#13 \n",
    "# 1 url 입력 시 url request 처리 받음\n",
    "# 2 url.py 에서 패턴에 해당하는 url 검출\n",
    "#  2-1  view_page 존재할 경우 해당 패턴이 지정하는 view_page를 반환\n",
    "#  2-2  view_page 존재하지 않을 경우 페이지 없음 에러 반환"
   ]
  }
 ],
 "metadata": {
  "kernelspec": {
   "display_name": "Python 3",
   "language": "python",
   "name": "python3"
  },
  "language_info": {
   "codemirror_mode": {
    "name": "ipython",
    "version": 3
   },
   "file_extension": ".py",
   "mimetype": "text/x-python",
   "name": "python",
   "nbconvert_exporter": "python",
   "pygments_lexer": "ipython3",
   "version": "3.6.6"
  }
 },
 "nbformat": 4,
 "nbformat_minor": 2
}
